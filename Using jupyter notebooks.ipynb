{
 "cells": [
  {
   "cell_type": "markdown",
   "metadata": {},
   "source": [
    "Jupyter notebooks are good for learning python.\n",
    "\n",
    "The notebooks contain 2 different kind of boxes.\n",
    "\n",
    "    1. Contains no code, just text for you to read\n",
    "    2. Contains code for you to run."
   ]
  },
  {
   "cell_type": "code",
   "execution_count": 2,
   "metadata": {},
   "outputs": [
    {
     "name": "stdout",
     "output_type": "stream",
     "text": [
      "New internet\n"
     ]
    }
   ],
   "source": [
    "# This box is actual python code\n",
    "# Click in the box and click on the 'Run' button above\n",
    "\n",
    "# Once you run this box,you should see the words New Internet appear\n",
    "print('New internet')"
   ]
  },
  {
   "cell_type": "markdown",
   "metadata": {},
   "source": []
  }
 ],
 "metadata": {
  "kernelspec": {
   "display_name": "Python 3",
   "language": "python",
   "name": "python3"
  },
  "language_info": {
   "codemirror_mode": {
    "name": "ipython",
    "version": 3
   },
   "file_extension": ".py",
   "mimetype": "text/x-python",
   "name": "python",
   "nbconvert_exporter": "python",
   "pygments_lexer": "ipython3",
   "version": "3.6.7"
  }
 },
 "nbformat": 4,
 "nbformat_minor": 2
}
