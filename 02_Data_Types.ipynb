{
 "cells": [
  {
   "cell_type": "markdown",
   "metadata": {},
   "source": [
    "# Data types\n",
    "\n",
    "### Python has many data types. Examples of datatypes are:\n",
    "    Numbers\n",
    "        integers \n",
    "        floats \n",
    "    Strings\n",
    "    Boolean\n",
    "    Lists (I sometimes will call them arrays)\n",
    "    Tuples\n",
    "    Dictionaries\n",
    "    \n",
    "#### Why are these data types important?\n",
    "The different data types have unique attributes and are used for specific reasons.\n",
    "\n"
   ]
  },
  {
   "cell_type": "code",
   "execution_count": 41,
   "metadata": {},
   "outputs": [
    {
     "name": "stdout",
     "output_type": "stream",
     "text": [
      "5 is a <class 'int'>\n",
      "5.135 is a <class 'float'>\n",
      "Hello World is a <class 'str'>\n",
      "Variable \"are_the_bulls_good\" is a <class 'bool'>\n",
      "Variable \"names\" is a <class 'list'>\n",
      "Variable \"teams\" is a <class 'tuple'>\n",
      "Variable \"recipe\" is a <class 'dict'>\n"
     ]
    }
   ],
   "source": [
    "# Run this code to see an example of each of these datatypes\n",
    "\n",
    "# Just FYI You aren't expected to understand this code yet.\n",
    "\n",
    "print('5 is a ' + str(type(5)))\n",
    "print('5.135 is a ' + str(type(5.135)))\n",
    "\n",
    "\n",
    "print('Hello World is a ' + str(type('Hello world!')))\n",
    "\n",
    "# Set variable are_the_bulls_good to equal the boolean value of False\n",
    "are_the_bulls_good = False\n",
    "print('Variable \"are_the_bulls_good\" is a ' + str(type(x)))\n",
    "\n",
    "# Set variable 'names' equal to a list of strings\n",
    "names = ['Bobby', 'Eric', 'D' ]\n",
    "\n",
    "print('Variable \"names\" is a ' + str(type(names)))\n",
    "\n",
    "# Set variable 'teams' equal to a tuple of strings\n",
    "teams = ('Raptors', 'Bucks', 'Blazers', 'Warriors')\n",
    "\n",
    "print('Variable \"teams\" is a ' + str(type(teams)))\n",
    "\n",
    "# Set variable 'recipe' equal to a dictionary\n",
    "recipe = {\n",
    "    \"name\": \"Mac n' Cheese\",\n",
    "    \"ingredients\": ['Noodles', 'Cheese', 'Butter'],\n",
    "    \"directions\": ['Cook pasta', 'Mix with cheese']\n",
    "}\n",
    "\n",
    "print('Variable \"recipe\" is a ' + str(type(recipe)))"
   ]
  }
 ],
 "metadata": {
  "kernelspec": {
   "display_name": "Python 3",
   "language": "python",
   "name": "python3"
  },
  "language_info": {
   "codemirror_mode": {
    "name": "ipython",
    "version": 3
   },
   "file_extension": ".py",
   "mimetype": "text/x-python",
   "name": "python",
   "nbconvert_exporter": "python",
   "pygments_lexer": "ipython3",
   "version": "3.7.3"
  }
 },
 "nbformat": 4,
 "nbformat_minor": 2
}
