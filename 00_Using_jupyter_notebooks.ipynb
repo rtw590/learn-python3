{
 "cells": [
  {
   "cell_type": "markdown",
   "metadata": {},
   "source": [
    "Jupyter notebooks are good for learning python.\n",
    "\n",
    "The notebooks contain 2 different kind of cells.\n",
    "\n",
    "    1. Contains no code (like this cell). Just text for you to read\n",
    "    2. The other contains code for you to run."
   ]
  },
  {
   "cell_type": "code",
   "execution_count": null,
   "metadata": {},
   "outputs": [],
   "source": [
    "# This cell is actual python code\n",
    "# Click in the box and click on the 'Run' button above\n",
    "\n",
    "# Once you run this cell,you should see the words New Internet appear below\n",
    "print('New internet')"
   ]
  },
  {
   "cell_type": "markdown",
   "metadata": {},
   "source": [
    "Now let's do some very basic python"
   ]
  },
  {
   "cell_type": "code",
   "execution_count": null,
   "metadata": {},
   "outputs": [],
   "source": [
    "# Any python line that starts with # is a comment.\n",
    "# Comments in code are useful to explain what the code is actually doing \n",
    "\n",
    "# Let's set a variable x equal to 5\n",
    "x = 5\n",
    "\n",
    "# Now click in this cell and click on the 'Run' button. You should see 5 show up below\n",
    "print(x)"
   ]
  },
  {
   "cell_type": "markdown",
   "metadata": {},
   "source": [
    "It is important to know that if you do not run the cell, then the python code is not executed.\n",
    "If you didn't run the cell above and declare that x = 5, then when a later cell is run, x will be undefined instead of 5.\n",
    "\n",
    "Let's see an example of this/"
   ]
  },
  {
   "cell_type": "code",
   "execution_count": null,
   "metadata": {},
   "outputs": [],
   "source": [
    "# This is a cell containing python code\n",
    "# Do not run this cell to illustrate this concept\n",
    "\n",
    "y = 10"
   ]
  },
  {
   "cell_type": "code",
   "execution_count": null,
   "metadata": {},
   "outputs": [],
   "source": [
    "# Run this cell\n",
    "\n",
    "print(y)"
   ]
  },
  {
   "cell_type": "markdown",
   "metadata": {},
   "source": [
    "Since we didn't run the cell containing the code to define y as equaling 10, we get an error when we run the cell that is supposed to print out."
   ]
  },
  {
   "cell_type": "markdown",
   "metadata": {},
   "source": [
    "If you ever run a cell and you don't see an output, you may need to restart the kernal.\n",
    "If this happens to you, go up to the top bar and click on Kernal > Restart\n",
    "After the restart you shoukd begin seeing output again."
   ]
  }
 ],
 "metadata": {
  "kernelspec": {
   "display_name": "Python 3",
   "language": "python",
   "name": "python3"
  },
  "language_info": {
   "codemirror_mode": {
    "name": "ipython",
    "version": 3
   },
   "file_extension": ".py",
   "mimetype": "text/x-python",
   "name": "python",
   "nbconvert_exporter": "python",
   "pygments_lexer": "ipython3",
   "version": "3.6.7"
  }
 },
 "nbformat": 4,
 "nbformat_minor": 2
}
