{
 "cells": [
  {
   "cell_type": "markdown",
   "metadata": {},
   "source": [
    "# Data types\n",
    "\n",
    "### Python has many data types. Examples of datatypes are:\n",
    "    Numbers\n",
    "        integers \n",
    "        floats \n",
    "    Strings\n",
    "    Boolean\n",
    "    Lists (I sometimes will call them arrays)\n",
    "    Tuples\n",
    "    Dictionaries\n",
    "    \n",
    "#### Why are these data types important?\n",
    "The different data types have unique attributes and are used for specific reasons.\n",
    "\n"
   ]
  },
  {
   "cell_type": "code",
   "execution_count": 41,
   "metadata": {},
   "outputs": [
    {
     "name": "stdout",
     "output_type": "stream",
     "text": [
      "5 is a <class 'int'>\n",
      "5.135 is a <class 'float'>\n",
      "Hello World is a <class 'str'>\n",
      "Variable \"are_the_bulls_good\" is a <class 'bool'>\n",
      "Variable \"names\" is a <class 'list'>\n",
      "Variable \"teams\" is a <class 'tuple'>\n",
      "Variable \"recipe\" is a <class 'dict'>\n"
     ]
    }
   ],
   "source": [
    "# Run this code to see an example of each of these datatypes\n",
    "\n",
    "# Just FYI You aren't expected to understand this code yet.\n",
    "\n",
    "print('5 is a ' + str(type(5)))\n",
    "print('5.135 is a ' + str(type(5.135)))\n",
    "\n",
    "\n",
    "print('Hello World is a ' + str(type('Hello world!')))\n",
    "\n",
    "# Set variable are_the_bulls_good to equal the boolean value of False\n",
    "are_the_bulls_good = False\n",
    "print('Variable \"are_the_bulls_good\" is a ' + str(type(x)))\n",
    "\n",
    "# Set variable 'names' equal to a list of strings\n",
    "names = ['Bobby', 'Eric', 'D' ]\n",
    "\n",
    "print('Variable \"names\" is a ' + str(type(names)))\n",
    "\n",
    "# Set variable 'teams' equal to a tuple of strings\n",
    "teams = ('Raptors', 'Bucks', 'Blazers', 'Warriors')\n",
    "\n",
    "print('Variable \"teams\" is a ' + str(type(teams)))\n",
    "\n",
    "# Set variable 'recipe' equal to a dictionary\n",
    "recipe = {\n",
    "    \"name\": \"Mac n' Cheese\",\n",
    "    \"ingredients\": ['Noodles', 'Cheese', 'Butter'],\n",
    "    \"directions\": ['Cook pasta', 'Mix with cheese']\n",
    "}\n",
    "\n",
    "print('Variable \"recipe\" is a ' + str(type(recipe)))"
   ]
  },
  {
   "cell_type": "markdown",
   "metadata": {},
   "source": [
    "### Integers and floats\n",
    "\n",
    "You can do common arithmitic with numbers and integers\n",
    "+, -, *, / etc"
   ]
  },
  {
   "cell_type": "code",
   "execution_count": 5,
   "metadata": {},
   "outputs": [
    {
     "name": "stdout",
     "output_type": "stream",
     "text": [
      "30\n",
      "1\n",
      "56\n",
      "1369.28\n"
     ]
    }
   ],
   "source": [
    "print(25+5)\n",
    "print(30-29)\n",
    "print(8*7)\n",
    "print(34232 / 25)"
   ]
  },
  {
   "cell_type": "markdown",
   "metadata": {},
   "source": [
    "### Strings\n",
    "\n",
    "Strings are just text. Strings go within single or double quotes. You can use either, but keep these examples in mind:\n",
    "\n",
    "\"Rob's handles are sick\"\n",
    "\n",
    "'I know Eric said, \"I love bp\" yesterday'\n",
    "\n",
    "In the first example I used double quotes because the string needed to contain a single quotation.\n",
    "In the second example I used single quotes because the string needed to contain double quotes.\n",
    "\n",
    "Strings can be anything from an empty string, indicated like this '', all the way up to full paragraphs"
   ]
  },
  {
   "cell_type": "markdown",
   "metadata": {},
   "source": [
    "### Boolean\n",
    "\n",
    "Booleans are simply true or false values. They are handy for any data that is just true or false.\n",
    "\n",
    "Has a player been drafted yet? Did a user verify their account? etc\n",
    "\n",
    "In python True and False are used with capital letters\n",
    "\n",
    "does_rob_have_sick_handles = True <--- Correct\n",
    "\n",
    "does_rob_have_sick_handles = true <--- Incorrect and throws an error."
   ]
  },
  {
   "cell_type": "markdown",
   "metadata": {},
   "source": [
    "### Lists\n",
    "\n",
    "Lists are what they sound like. You can use a list to store a series of information\n",
    "\n",
    "friends = ['Bobby', 'Eric', 'D']\n",
    "\n",
    "classes = ['Math', 'Science', 'Art']\n",
    "\n",
    "In this case I created a list containing strings to keep things simple, but lists can also contain other datatypes. They can even contain other lists and they can have a mix of datatypes stores in the same list."
   ]
  },
  {
   "cell_type": "markdown",
   "metadata": {},
   "source": [
    "### Tuples\n",
    "\n",
    "Tuples are the same thing as lists, but once you set data in a tuple, it cannot be changed.\n",
    "\n",
    "With lists, you can add values, edit values, and remove values as you please, but with tuples the data cannot be altered.\n",
    "\n",
    "friends = ('Bobby', 'Eric', 'D')"
   ]
  },
  {
   "cell_type": "markdown",
   "metadata": {},
   "source": [
    "### Dictionaries\n",
    "\n",
    "Dictionaries allow you to set key-value pairs. The below code shows examples of what this means."
   ]
  },
  {
   "cell_type": "code",
   "execution_count": 4,
   "metadata": {},
   "outputs": [
    {
     "name": "stdout",
     "output_type": "stream",
     "text": [
      "city of lights\n"
     ]
    }
   ],
   "source": [
    "# Here we are setting the variable aurora equal to a dictionary\n",
    "# The items to the left of the colon are the keys and the items to the right are the values\n",
    "aurora = {\n",
    "    'slogan': 'city of lights',\n",
    "    # Notice here that I did not use a comma for the integer\n",
    "    'population': 200965,\n",
    "    'notable people born there': ['Rob', 'Eric', 'D', 'Bobby']\n",
    "}\n",
    "# As you can see, the values can be strings, integers, lists etc. \n",
    "# They can also contain other datatypes\n",
    "\n",
    "# You can access stored dictionary information like this:\n",
    "\n",
    "print(aurora['slogan'])"
   ]
  }
 ],
 "metadata": {
  "kernelspec": {
   "display_name": "Python 3",
   "language": "python",
   "name": "python3"
  },
  "language_info": {
   "codemirror_mode": {
    "name": "ipython",
    "version": 3
   },
   "file_extension": ".py",
   "mimetype": "text/x-python",
   "name": "python",
   "nbconvert_exporter": "python",
   "pygments_lexer": "ipython3",
   "version": "3.7.3"
  }
 },
 "nbformat": 4,
 "nbformat_minor": 2
}
